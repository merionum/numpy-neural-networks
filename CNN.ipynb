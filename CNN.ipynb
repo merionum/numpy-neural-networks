{
  "nbformat": 4,
  "nbformat_minor": 0,
  "metadata": {
    "kernelspec": {
      "display_name": "Python 3",
      "language": "python",
      "name": "python3"
    },
    "language_info": {
      "codemirror_mode": {
        "name": "ipython",
        "version": 3
      },
      "file_extension": ".py",
      "mimetype": "text/x-python",
      "name": "python",
      "nbconvert_exporter": "python",
      "pygments_lexer": "ipython3",
      "version": "3.6.8"
    },
    "colab": {
      "name": "CNN.ipynb",
      "provenance": []
    }
  },
  "cells": [
    {
      "cell_type": "code",
      "metadata": {
        "id": "_IV39D5KYA22",
        "colab_type": "code",
        "colab": {}
      },
      "source": [
        "import numpy as np\n",
        "import matplotlib.pyplot as plt\n",
        "\n",
        "%matplotlib inline\n",
        "\n",
        "%load_ext autoreload\n",
        "%autoreload 2"
      ],
      "execution_count": 0,
      "outputs": []
    },
    {
      "cell_type": "code",
      "metadata": {
        "id": "nl0Zhr0GYA3O",
        "colab_type": "code",
        "colab": {}
      },
      "source": [
        "from dataset import load_svhn, random_split_train_val\n",
        "from gradient_check import check_layer_gradient, check_layer_param_gradient, check_model_gradient\n",
        "from layers import (\n",
        "    FullyConnectedLayer, ReLULayer,\n",
        "    ConvolutionalLayer, MaxPoolingLayer, Flattener,\n",
        "    softmax_with_cross_entropy, l2_regularization\n",
        "    )\n",
        "from trainer import Trainer, Dataset\n",
        "from optim import SGD, MomentumSGD\n",
        "from metrics import multiclass_accuracy"
      ],
      "execution_count": 0,
      "outputs": []
    },
    {
      "cell_type": "code",
      "metadata": {
        "id": "DPi-IJ6TYA3h",
        "colab_type": "code",
        "colab": {}
      },
      "source": [
        "def prepare_for_neural_network(train_X, test_X):    \n",
        "    train_X = train_X.astype(np.float) / 255.0\n",
        "    test_X = test_X.astype(np.float) / 255.0\n",
        "    \n",
        "    # Subtract mean\n",
        "    mean_image = np.mean(train_X, axis = 0)\n",
        "    train_X -= mean_image\n",
        "    test_X -= mean_image\n",
        "    \n",
        "    return train_X, test_X\n",
        "    \n",
        "train_X, train_y, test_X, test_y = load_svhn(\"./data\", max_train=10000, max_test=1000)    \n",
        "train_X, test_X = prepare_for_neural_network(train_X, test_X)\n",
        "# Split train into train and val\n",
        "train_X, train_y, val_X, val_y = random_split_train_val(train_X, train_y, num_val = 1000)"
      ],
      "execution_count": 0,
      "outputs": []
    },
    {
      "cell_type": "markdown",
      "metadata": {
        "id": "nptCEDONYA3t",
        "colab_type": "text"
      },
      "source": [
        "\n",
        "Сверточный слой выполняет операцию свертки (convolution) с весами для каждого канала, а потом складывает результаты. \n",
        "\n",
        "http://cs231n.github.io/convolutional-networks/\n"
      ]
    },
    {
      "cell_type": "code",
      "metadata": {
        "id": "ZDfbdB_0YA3x",
        "colab_type": "code",
        "colab": {},
        "outputId": "60115555-09a2-41e8-8296-b43a01ff6788"
      },
      "source": [
        "X=train_X[:11]\n",
        "X.shape"
      ],
      "execution_count": 0,
      "outputs": [
        {
          "output_type": "execute_result",
          "data": {
            "text/plain": [
              "(11, 32, 32, 3)"
            ]
          },
          "metadata": {
            "tags": []
          },
          "execution_count": 4
        }
      ]
    },
    {
      "cell_type": "code",
      "metadata": {
        "id": "CILv2RWfYA4B",
        "colab_type": "code",
        "colab": {},
        "outputId": "e63ff499-5d77-4686-adb1-35521398930d"
      },
      "source": [
        "plt.imshow(X[0])"
      ],
      "execution_count": 0,
      "outputs": [
        {
          "output_type": "stream",
          "text": [
            "Clipping input data to the valid range for imshow with RGB data ([0..1] for floats or [0..255] for integers).\n"
          ],
          "name": "stderr"
        },
        {
          "output_type": "execute_result",
          "data": {
            "text/plain": [
              "<matplotlib.image.AxesImage at 0x7f5c3c5deba8>"
            ]
          },
          "metadata": {
            "tags": []
          },
          "execution_count": 5
        },
        {
          "output_type": "display_data",
          "data": {
            "image/png": "[encoded data removed]",
            "text/plain": [
              "<Figure size 432x288 with 1 Axes>"
            ]
          },
          "metadata": {
            "tags": [],
            "needs_background": "light"
          }
        }
      ]
    },
    {
      "cell_type": "code",
      "metadata": {
        "id": "wY97SD06Y8R6",
        "colab_type": "code",
        "colab": {}
      },
      "source": [
        "\n",
        "\n",
        "class ConvNet:\n",
        "    \"\"\"\n",
        "    Implements a very simple conv net\n",
        "\n",
        "    Input -> Conv[3x3] -> Relu -> Maxpool[4x4] ->\n",
        "    Conv[3x3] -> Relu -> MaxPool[4x4] ->\n",
        "    Flatten -> FC -> Softmax\n",
        "    \"\"\"\n",
        "    def __init__(self, input_shape, n_output_classes, conv1_channels, conv2_channels):\n",
        "        \"\"\"\n",
        "        Initializes the neural network\n",
        "\n",
        "        Arguments:\n",
        "        input_shape, tuple of 3 ints - image_width, image_height, n_channels\n",
        "                                         Will be equal to (32, 32, 3)\n",
        "        n_output_classes, int - number of classes to predict\n",
        "        conv1_channels, int - number of filters in the 1st conv layer\n",
        "        conv2_channels, int - number of filters in the 2nd conv layer\n",
        "        \"\"\"\n",
        "        self.conv1_layer = ConvolutionalLayer(in_channels=input_shape[2], out_channels=conv1_channels,\n",
        "                                              filter_size=3, padding=0)\n",
        "        self.maxpool1_layer = MaxPoolingLayer(pool_size=4, stride=1) \n",
        "        self.conv2_layer = ConvolutionalLayer(in_channels=2, out_channels=conv2_channels,\n",
        "                                              filter_size=3, padding=0)\n",
        "        self.maxpool2_layer = MaxPoolingLayer(pool_size=4, stride=1) \n",
        "        self.flattener = Flattener()\n",
        "        self.fc_layer = FullyConnectedLayer(968, 10)\n",
        "\n",
        "    def compute_loss_and_gradients(self, X, y):\n",
        "        \"\"\"\n",
        "        Computes total loss and updates parameter gradients\n",
        "        on a batch of training examples\n",
        "\n",
        "        Arguments:\n",
        "        X, np array (batch_size, height, width, input_features) - input data\n",
        "        y, np array of int (batch_size) - classes\n",
        "        \"\"\"\n",
        "        # Before running forward and backward pass through the model,\n",
        "        # clear parameter gradients aggregated from the previous pass\n",
        "\n",
        "        # TODO Compute loss and fill param gradients\n",
        "\n",
        "        for key in self.params().keys():\n",
        "            self.params()[key].grad = 0.0\n",
        "\n",
        "        conv1_out = self.conv1_layer.forward(X)\n",
        "        maxpool1_out = self.maxpool1_layer.forward(conv1_out)\n",
        "        conv2_out = self.conv2_layer.forward(maxpool1_out)\n",
        "        maxpool2_out = self.maxpool2_layer.forward(conv2_out)\n",
        "        flat = self.flattener.forward(maxpool2_out)\n",
        "        fc_out = self.fc_layer.forward(flat)\n",
        "\n",
        "        loss, grad = softmax_with_cross_entropy(fc_out, y)\n",
        "\n",
        "        dfc_layer = self.fc_layer.backward(grad)\n",
        "        dflat = self.flattener.backward(dfc_layer)\n",
        "        dmaxpool2 = self.maxpool2_layer.backward(dflat)\n",
        "        dconv2 = self.conv2_layer.backward(dmaxpool2)\n",
        "        dmaxpool1 = self.maxpool1_layer.backward(dconv2)\n",
        "        dconv1 = self.conv1_layer.backward(dmaxpool1)\n",
        "\n",
        "        return loss\n",
        "\n",
        "    def predict(self, X):\n",
        "        conv1_out = self.conv1_layer.forward(X)\n",
        "        maxpool1_out = self.maxpool1_layer.forward(conv1_out)\n",
        "        conv2_out = self.conv2_layer.forward(maxpool1_out)\n",
        "        maxpool2_out = self.maxpool2_layer.forward(conv2_out)\n",
        "        flat = self.flattener.forward(maxpool2_out)\n",
        "        fc_out = self.fc_layer.forward(flat)\n",
        "        \n",
        "        return fc_out.argmax(axis=1)\n",
        "\n",
        "    def params(self):\n",
        "        result = {}\n",
        "\n",
        "        result['W_CONV1'] = self.conv1_layer.params()['W']\n",
        "        result['B_CONV1'] = self.conv1_layer.params()['B']\n",
        "        result['W_CONV2'] = self.conv2_layer.params()['W']\n",
        "        result['B_CONV2'] = self.conv2_layer.params()['B']\n",
        "        result['W_FC'] = self.fc_layer.params()['W']\n",
        "        result['B_FC'] = self.fc_layer.params()['B']\n",
        "\n",
        "        return result\n"
      ],
      "execution_count": 0,
      "outputs": []
    },
    {
      "cell_type": "code",
      "metadata": {
        "scrolled": false,
        "id": "U4AQ0Sx8YA5r",
        "colab_type": "code",
        "colab": {},
        "outputId": "08428335-5074-46c4-c2c2-af3bc2c48101"
      },
      "source": [
        "model = ConvNet(input_shape=(32,32,3), n_output_classes=10, conv1_channels=2, conv2_channels=2)\n",
        "dataset = Dataset(train_X[:16], train_y[:16], val_X[:16], val_y[:16])\n",
        "trainer = Trainer(model, dataset, SGD(), batch_size=16, learning_rate=1e-3)\n",
        "\n",
        "loss_history, train_history, val_history = trainer.fit()"
      ],
      "execution_count": 0,
      "outputs": [
        {
          "output_type": "stream",
          "text": [
            "Loss: 10.875467, Train accuracy: 0.187500, val accuracy: 0.062500\n",
            "Loss: 10.567528, Train accuracy: 0.312500, val accuracy: 0.125000\n",
            "Loss: 9.086109, Train accuracy: 0.187500, val accuracy: 0.125000\n",
            "Loss: 10.708267, Train accuracy: 0.250000, val accuracy: 0.062500\n",
            "Loss: 6.098072, Train accuracy: 0.062500, val accuracy: 0.000000\n",
            "Loss: 2.961316, Train accuracy: 0.125000, val accuracy: 0.000000\n",
            "Loss: 2.186610, Train accuracy: 0.187500, val accuracy: 0.000000\n",
            "Loss: 2.025028, Train accuracy: 0.187500, val accuracy: 0.062500\n",
            "Loss: 2.058356, Train accuracy: 0.187500, val accuracy: 0.000000\n",
            "Loss: 2.102106, Train accuracy: 0.187500, val accuracy: 0.000000\n",
            "Loss: 1.966976, Train accuracy: 0.187500, val accuracy: 0.000000\n",
            "Loss: 1.934068, Train accuracy: 0.187500, val accuracy: 0.000000\n",
            "Loss: 1.862469, Train accuracy: 0.250000, val accuracy: 0.000000\n",
            "Loss: 1.834950, Train accuracy: 0.250000, val accuracy: 0.000000\n",
            "Loss: 1.817584, Train accuracy: 0.250000, val accuracy: 0.000000\n",
            "Loss: 1.811572, Train accuracy: 0.250000, val accuracy: 0.000000\n",
            "Loss: 1.809115, Train accuracy: 0.250000, val accuracy: 0.000000\n",
            "Loss: 1.807021, Train accuracy: 0.250000, val accuracy: 0.000000\n",
            "Loss: 1.804977, Train accuracy: 0.250000, val accuracy: 0.000000\n",
            "Loss: 1.803186, Train accuracy: 0.250000, val accuracy: 0.000000\n"
          ],
          "name": "stdout"
        }
      ]
    },
    {
      "cell_type": "code",
      "metadata": {
        "id": "3cFPO1eWYA5z",
        "colab_type": "code",
        "colab": {},
        "outputId": "73a76008-1cc6-44b2-c30d-c6053e1ff28c"
      },
      "source": [
        "plt.plot(train_history)\n",
        "plt.plot(val_history)"
      ],
      "execution_count": 0,
      "outputs": [
        {
          "output_type": "execute_result",
          "data": {
            "text/plain": [
              "[<matplotlib.lines.Line2D at 0x7f5c3c41d160>]"
            ]
          },
          "metadata": {
            "tags": []
          },
          "execution_count": 17
        },
        {
          "output_type": "display_data",
          "data": {
            "image/png": "[encoded data removed]",
            "text/plain": [
              "<Figure size 432x288 with 1 Axes>"
            ]
          },
          "metadata": {
            "tags": [],
            "needs_background": "light"
          }
        }
      ]
    },
    {
      "cell_type": "code",
      "metadata": {
        "id": "IykiJ_iKYA6G",
        "colab_type": "code",
        "colab": {},
        "outputId": "668504d4-855d-44ac-ffdf-701f446f684d"
      },
      "source": [
        "data_size = 128\n",
        "model = ConvNet(input_shape=(32,32,3), n_output_classes=10, conv1_channels=2, conv2_channels=2)\n",
        "dataset = Dataset(train_X[:data_size], train_y[:data_size], val_X[:data_size], val_y[:data_size])\n",
        "# TODO: Change any hyperparamers or optimizators to reach 1.0 training accuracy in 50 epochs or less\n",
        "# Hint: If you have hard time finding the right parameters manually, try grid search or random search!\n",
        "trainer = Trainer(model, dataset, MomentumSGD(), learning_rate=1e-3, num_epochs=50, batch_size=64)\n",
        "\n",
        "loss_history, train_history, val_history = trainer.fit()"
      ],
      "execution_count": 0,
      "outputs": [
        {
          "output_type": "stream",
          "text": [
            "Loss: 6.148286, Train accuracy: 0.132812, val accuracy: 0.093750\n",
            "Loss: 2.301060, Train accuracy: 0.132812, val accuracy: 0.093750\n",
            "Loss: 2.296838, Train accuracy: 0.132812, val accuracy: 0.093750\n"
          ],
          "name": "stdout"
        },
        {
          "output_type": "error",
          "ename": "KeyboardInterrupt",
          "evalue": "",
          "traceback": [
            "\u001b[0;31m---------------------------------------------------------------------------\u001b[0m",
            "\u001b[0;31mKeyboardInterrupt\u001b[0m                         Traceback (most recent call last)",
            "\u001b[0;32m<ipython-input-18-454f63e570ea>\u001b[0m in \u001b[0;36m<module>\u001b[0;34m\u001b[0m\n\u001b[1;32m      6\u001b[0m \u001b[0mtrainer\u001b[0m \u001b[0;34m=\u001b[0m \u001b[0mTrainer\u001b[0m\u001b[0;34m(\u001b[0m\u001b[0mmodel\u001b[0m\u001b[0;34m,\u001b[0m \u001b[0mdataset\u001b[0m\u001b[0;34m,\u001b[0m \u001b[0mMomentumSGD\u001b[0m\u001b[0;34m(\u001b[0m\u001b[0;34m)\u001b[0m\u001b[0;34m,\u001b[0m \u001b[0mlearning_rate\u001b[0m\u001b[0;34m=\u001b[0m\u001b[0;36m1e-3\u001b[0m\u001b[0;34m,\u001b[0m \u001b[0mnum_epochs\u001b[0m\u001b[0;34m=\u001b[0m\u001b[0;36m50\u001b[0m\u001b[0;34m,\u001b[0m \u001b[0mbatch_size\u001b[0m\u001b[0;34m=\u001b[0m\u001b[0;36m64\u001b[0m\u001b[0;34m)\u001b[0m\u001b[0;34m\u001b[0m\u001b[0;34m\u001b[0m\u001b[0m\n\u001b[1;32m      7\u001b[0m \u001b[0;34m\u001b[0m\u001b[0m\n\u001b[0;32m----> 8\u001b[0;31m \u001b[0mloss_history\u001b[0m\u001b[0;34m,\u001b[0m \u001b[0mtrain_history\u001b[0m\u001b[0;34m,\u001b[0m \u001b[0mval_history\u001b[0m \u001b[0;34m=\u001b[0m \u001b[0mtrainer\u001b[0m\u001b[0;34m.\u001b[0m\u001b[0mfit\u001b[0m\u001b[0;34m(\u001b[0m\u001b[0;34m)\u001b[0m\u001b[0;34m\u001b[0m\u001b[0;34m\u001b[0m\u001b[0m\n\u001b[0m",
            "\u001b[0;32m~/Music/СNN_ (3)/trainer.py\u001b[0m in \u001b[0;36mfit\u001b[0;34m(self)\u001b[0m\n\u001b[1;32m     99\u001b[0m                 \u001b[0mbatch_y\u001b[0m \u001b[0;34m=\u001b[0m \u001b[0mself\u001b[0m\u001b[0;34m.\u001b[0m\u001b[0mdataset\u001b[0m\u001b[0;34m.\u001b[0m\u001b[0mtrain_y\u001b[0m\u001b[0;34m[\u001b[0m\u001b[0mbatch_indices\u001b[0m\u001b[0;34m]\u001b[0m\u001b[0;34m\u001b[0m\u001b[0;34m\u001b[0m\u001b[0m\n\u001b[1;32m    100\u001b[0m \u001b[0;34m\u001b[0m\u001b[0m\n\u001b[0;32m--> 101\u001b[0;31m                 \u001b[0mloss\u001b[0m \u001b[0;34m=\u001b[0m \u001b[0mself\u001b[0m\u001b[0;34m.\u001b[0m\u001b[0mmodel\u001b[0m\u001b[0;34m.\u001b[0m\u001b[0mcompute_loss_and_gradients\u001b[0m\u001b[0;34m(\u001b[0m\u001b[0mbatch_X\u001b[0m\u001b[0;34m,\u001b[0m \u001b[0mbatch_y\u001b[0m\u001b[0;34m)\u001b[0m\u001b[0;34m\u001b[0m\u001b[0;34m\u001b[0m\u001b[0m\n\u001b[0m\u001b[1;32m    102\u001b[0m \u001b[0;34m\u001b[0m\u001b[0m\n\u001b[1;32m    103\u001b[0m                 \u001b[0;32mfor\u001b[0m \u001b[0mparam_name\u001b[0m\u001b[0;34m,\u001b[0m \u001b[0mparam\u001b[0m \u001b[0;32min\u001b[0m \u001b[0mself\u001b[0m\u001b[0;34m.\u001b[0m\u001b[0mmodel\u001b[0m\u001b[0;34m.\u001b[0m\u001b[0mparams\u001b[0m\u001b[0;34m(\u001b[0m\u001b[0;34m)\u001b[0m\u001b[0;34m.\u001b[0m\u001b[0mitems\u001b[0m\u001b[0;34m(\u001b[0m\u001b[0;34m)\u001b[0m\u001b[0;34m:\u001b[0m\u001b[0;34m\u001b[0m\u001b[0;34m\u001b[0m\u001b[0m\n",
            "\u001b[0;32m~/Music/СNN_ (3)/model.py\u001b[0m in \u001b[0;36mcompute_loss_and_gradients\u001b[0;34m(self, X, y)\u001b[0m\n\u001b[1;32m     66\u001b[0m         \u001b[0mdmaxpool2\u001b[0m \u001b[0;34m=\u001b[0m \u001b[0mself\u001b[0m\u001b[0;34m.\u001b[0m\u001b[0mmaxpool2_layer\u001b[0m\u001b[0;34m.\u001b[0m\u001b[0mbackward\u001b[0m\u001b[0;34m(\u001b[0m\u001b[0mdflat\u001b[0m\u001b[0;34m)\u001b[0m\u001b[0;34m\u001b[0m\u001b[0;34m\u001b[0m\u001b[0m\n\u001b[1;32m     67\u001b[0m         \u001b[0mdconv2\u001b[0m \u001b[0;34m=\u001b[0m \u001b[0mself\u001b[0m\u001b[0;34m.\u001b[0m\u001b[0mconv2_layer\u001b[0m\u001b[0;34m.\u001b[0m\u001b[0mbackward\u001b[0m\u001b[0;34m(\u001b[0m\u001b[0mdmaxpool2\u001b[0m\u001b[0;34m)\u001b[0m\u001b[0;34m\u001b[0m\u001b[0;34m\u001b[0m\u001b[0m\n\u001b[0;32m---> 68\u001b[0;31m         \u001b[0mdmaxpool1\u001b[0m \u001b[0;34m=\u001b[0m \u001b[0mself\u001b[0m\u001b[0;34m.\u001b[0m\u001b[0mmaxpool1_layer\u001b[0m\u001b[0;34m.\u001b[0m\u001b[0mbackward\u001b[0m\u001b[0;34m(\u001b[0m\u001b[0mdconv2\u001b[0m\u001b[0;34m)\u001b[0m\u001b[0;34m\u001b[0m\u001b[0;34m\u001b[0m\u001b[0m\n\u001b[0m\u001b[1;32m     69\u001b[0m         \u001b[0mdconv1\u001b[0m \u001b[0;34m=\u001b[0m \u001b[0mself\u001b[0m\u001b[0;34m.\u001b[0m\u001b[0mconv1_layer\u001b[0m\u001b[0;34m.\u001b[0m\u001b[0mbackward\u001b[0m\u001b[0;34m(\u001b[0m\u001b[0mdmaxpool1\u001b[0m\u001b[0;34m)\u001b[0m\u001b[0;34m\u001b[0m\u001b[0;34m\u001b[0m\u001b[0m\n\u001b[1;32m     70\u001b[0m \u001b[0;34m\u001b[0m\u001b[0m\n",
            "\u001b[0;32m~/Music/СNN_ (3)/layers.py\u001b[0m in \u001b[0;36mbackward\u001b[0;34m(self, d_out)\u001b[0m\n\u001b[1;32m    302\u001b[0m                     \u001b[0;32mfor\u001b[0m \u001b[0mc\u001b[0m \u001b[0;32min\u001b[0m \u001b[0mrange\u001b[0m\u001b[0;34m(\u001b[0m\u001b[0mchannels\u001b[0m\u001b[0;34m)\u001b[0m\u001b[0;34m:\u001b[0m\u001b[0;34m\u001b[0m\u001b[0;34m\u001b[0m\u001b[0m\n\u001b[1;32m    303\u001b[0m                         \u001b[0mpool\u001b[0m \u001b[0;34m=\u001b[0m \u001b[0msample\u001b[0m\u001b[0;34m[\u001b[0m\u001b[0mx_start\u001b[0m\u001b[0;34m:\u001b[0m\u001b[0mx_end\u001b[0m\u001b[0;34m,\u001b[0m \u001b[0my_start\u001b[0m\u001b[0;34m:\u001b[0m\u001b[0my_end\u001b[0m\u001b[0;34m,\u001b[0m \u001b[0mc\u001b[0m\u001b[0;34m]\u001b[0m\u001b[0;34m\u001b[0m\u001b[0;34m\u001b[0m\u001b[0m\n\u001b[0;32m--> 304\u001b[0;31m                         \u001b[0mmask\u001b[0m \u001b[0;34m=\u001b[0m \u001b[0;34m(\u001b[0m\u001b[0mpool\u001b[0m \u001b[0;34m==\u001b[0m \u001b[0mnp\u001b[0m\u001b[0;34m.\u001b[0m\u001b[0mmax\u001b[0m\u001b[0;34m(\u001b[0m\u001b[0mpool\u001b[0m\u001b[0;34m)\u001b[0m\u001b[0;34m)\u001b[0m\u001b[0;34m\u001b[0m\u001b[0;34m\u001b[0m\u001b[0m\n\u001b[0m\u001b[1;32m    305\u001b[0m                         \u001b[0mdX\u001b[0m\u001b[0;34m[\u001b[0m\u001b[0mi\u001b[0m\u001b[0;34m,\u001b[0m \u001b[0mx_start\u001b[0m\u001b[0;34m:\u001b[0m\u001b[0mx_end\u001b[0m\u001b[0;34m,\u001b[0m \u001b[0my_start\u001b[0m\u001b[0;34m:\u001b[0m\u001b[0my_end\u001b[0m\u001b[0;34m,\u001b[0m \u001b[0mc\u001b[0m\u001b[0;34m]\u001b[0m \u001b[0;34m+=\u001b[0m \u001b[0md_out\u001b[0m\u001b[0;34m[\u001b[0m\u001b[0mi\u001b[0m\u001b[0;34m,\u001b[0m \u001b[0my\u001b[0m\u001b[0;34m,\u001b[0m \u001b[0mx\u001b[0m\u001b[0;34m,\u001b[0m \u001b[0mc\u001b[0m\u001b[0;34m]\u001b[0m \u001b[0;34m*\u001b[0m \u001b[0mmask\u001b[0m\u001b[0;34m\u001b[0m\u001b[0;34m\u001b[0m\u001b[0m\n\u001b[1;32m    306\u001b[0m         \u001b[0;32mreturn\u001b[0m \u001b[0mdX\u001b[0m\u001b[0;34m\u001b[0m\u001b[0;34m\u001b[0m\u001b[0m\n",
            "\u001b[0;31mKeyboardInterrupt\u001b[0m: "
          ]
        }
      ]
    },
    {
      "cell_type": "code",
      "metadata": {
        "id": "ztCNksEzYA6N",
        "colab_type": "code",
        "colab": {}
      },
      "source": [
        "plt.plot(train_history)\n",
        "plt.plot(val_history)"
      ],
      "execution_count": 0,
      "outputs": []
    }
  ]
}
